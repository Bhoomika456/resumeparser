{
 "cells": [
  {
   "cell_type": "code",
   "execution_count": 1,
   "id": "230e2cf0",
   "metadata": {},
   "outputs": [
    {
     "name": "stderr",
     "output_type": "stream",
     "text": [
      "[nltk_data] Downloading package punkt to C:\\Users\\Bhagya\n",
      "[nltk_data]     Sri\\AppData\\Roaming\\nltk_data...\n",
      "[nltk_data]   Unzipping tokenizers\\punkt.zip.\n",
      "[nltk_data] Downloading package stopwords to C:\\Users\\Bhagya\n",
      "[nltk_data]     Sri\\AppData\\Roaming\\nltk_data...\n",
      "[nltk_data]   Unzipping corpora\\stopwords.zip.\n"
     ]
    }
   ],
   "source": [
    "import nltk\n",
    "from nltk.tokenize import word_tokenize\n",
    "from nltk.corpus import stopwords\n",
    "\n",
    "nltk.download('punkt')\n",
    "nltk.download('stopwords')\n",
    "\n",
    "def preprocess_text(text):\n",
    "    # Tokenize the text into words\n",
    "    words = word_tokenize(text.lower())\n",
    "\n",
    "    # Remove stop words (common words that don't contribute much to the meaning)\n",
    "    stop_words = set(stopwords.words('english'))\n",
    "    filtered_words = [word for word in words if word.isalpha() and word not in stop_words]\n",
    "\n",
    "    return filtered_words\n",
    "\n",
    "def find_matching_candidates(job_description, resumes):\n",
    "    job_keywords = set(preprocess_text(job_description))\n",
    "    matching_candidates = []\n",
    "\n",
    "    for resume in resumes:\n",
    "        resume_keywords = set(preprocess_text(resume['content']))\n",
    "        match_score = len(job_keywords.intersection(resume_keywords))\n",
    "        matching_candidates.append((resume['name'], match_score))\n",
    "\n",
    "    matching_candidates.sort(key=lambda x: x[1], reverse=True)\n",
    "\n",
    "    return matching_candidates\n"
   ]
  },
  {
   "cell_type": "code",
   "execution_count": 3,
   "id": "922e6e91",
   "metadata": {},
   "outputs": [
    {
     "name": "stdout",
     "output_type": "stream",
     "text": [
      "Potential Candidates:\n",
      "Bhoomika: Match Score - 5\n",
      "Jahnavi: Match Score - 3\n",
      "Bhagya Sri: Match Score - 2\n"
     ]
    }
   ],
   "source": [
    "# Example job description and resumes\n",
    "job_description = \"We are looking for a software developer with experience in Python and web development.\"\n",
    "\n",
    "resumes = [\n",
    "    {\n",
    "        'name': 'Bhoomika',\n",
    "        'content': \"Experienced software developer with strong skills in Python and web development.\"\n",
    "    },\n",
    "    {\n",
    "        'name': 'Jahnavi',\n",
    "        'content': \"Frontend developer with expertise in web development using HTML, CSS, and JavaScript.\"\n",
    "    },\n",
    "    {\n",
    "        'name': 'Bhagya Sri',\n",
    "        'content': \"Software engineer with experience in C++, Java, and software testing.\"\n",
    "    },\n",
    "]\n",
    "\n",
    "# Finding matching candidates based on keyword matching\n",
    "matching_candidates = find_matching_candidates(job_description, resumes)\n",
    "\n",
    "# Displaying the potential candidates and their match scores\n",
    "print(\"Potential Candidates:\")\n",
    "for candidate, match_score in matching_candidates:\n",
    "    print(f\"{candidate}: Match Score - {match_score}\")"
   ]
  },
  {
   "cell_type": "code",
   "execution_count": null,
   "id": "d3f7a70b",
   "metadata": {},
   "outputs": [],
   "source": []
  }
 ],
 "metadata": {
  "kernelspec": {
   "display_name": "Python 3 (ipykernel)",
   "language": "python",
   "name": "python3"
  },
  "language_info": {
   "codemirror_mode": {
    "name": "ipython",
    "version": 3
   },
   "file_extension": ".py",
   "mimetype": "text/x-python",
   "name": "python",
   "nbconvert_exporter": "python",
   "pygments_lexer": "ipython3",
   "version": "3.9.13"
  }
 },
 "nbformat": 4,
 "nbformat_minor": 5
}
